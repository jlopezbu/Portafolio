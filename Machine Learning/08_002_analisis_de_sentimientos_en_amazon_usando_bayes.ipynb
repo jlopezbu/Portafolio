{
  "cells": [
    {
      "cell_type": "markdown",
      "metadata": {
        "id": "895EI6ayNtVt"
      },
      "source": [
        "Análisis de sentimientos de mensajes en Amazon usando Naive Bayes\n",
        "==="
      ]
    },
    {
      "cell_type": "markdown",
      "metadata": {
        "id": "h_URUCOvNtVx"
      },
      "source": [
        "El archivo que se encuentra disponible en el link"
      ]
    },
    {
      "cell_type": "markdown",
      "metadata": {
        "id": "8ZH79I6-NtV0"
      },
      "source": [
        "https://raw.githubusercontent.com/jdvelasq/datalabs/master/datasets/amazon_cells_labelled.tsv"
      ]
    },
    {
      "cell_type": "markdown",
      "metadata": {
        "id": "g-QZLjxzNtV2"
      },
      "source": [
        "contiene mensajes escritos por los usuarios para productos comprados en Amazon y su valoración (positiva, negativa e indeterminada). En este laboratorio se debe construir un clasificador bayesiano que debe ser entrenado con los mensajes valorados, el cual debe ser posteriormente utilizado para valorar los mensajes con valoración indeterminada."
      ]
    },
    {
      "cell_type": "code",
      "execution_count": 1,
      "metadata": {
        "id": "ybTJlSzHNtV4",
        "colab": {
          "base_uri": "https://localhost:8080/"
        },
        "outputId": "b8994db8-f606-40e2-a03c-4f3d5d566cbc"
      },
      "outputs": [
        {
          "output_type": "execute_result",
          "data": {
            "text/plain": [
              "14609"
            ]
          },
          "metadata": {},
          "execution_count": 1
        }
      ],
      "source": [
        "#\n",
        "# Cargue el archivo usando Pandas e imprima la cantidad de\n",
        "# registros\n",
        "#\n",
        "# Rta/\n",
        "# 14609\n",
        "#\n",
        "import pandas as pd\n",
        "\n",
        "df = pd.read_csv(\"https://raw.githubusercontent.com/jdvelasq/datalabs/master/datasets/amazon_cells_labelled.tsv\", sep='\\t', header=None)\n",
        "df = df.rename(columns={0 : 'Texto', 1 : 'label'})\n",
        "len(df)"
      ]
    },
    {
      "cell_type": "code",
      "execution_count": 2,
      "metadata": {
        "id": "fEQXBHVNNtV6",
        "colab": {
          "base_uri": "https://localhost:8080/"
        },
        "outputId": "1e52e621-8111-4d4d-9cfc-0ae7de63521a"
      },
      "outputs": [
        {
          "output_type": "execute_result",
          "data": {
            "text/plain": [
              "'I try not to adjust the volume setting to avoid that I turn off the call button which is situated just below the volume adjustment knob.'"
            ]
          },
          "metadata": {},
          "execution_count": 2
        }
      ],
      "source": [
        "#\n",
        "# Imprima el primer mensaje de texto.\n",
        "#\n",
        "# Rta/\n",
        "# 'I try not to adjust the volume setting to avoid that I turn off the call button which is situated just below the volume adjustment knob.'\n",
        "#\n",
        "df['Texto'][0]"
      ]
    },
    {
      "cell_type": "code",
      "execution_count": 3,
      "metadata": {
        "id": "bhr4w4d4NtV8",
        "colab": {
          "base_uri": "https://localhost:8080/"
        },
        "outputId": "ec6afb06-ea1f-44ed-da1a-becda7db6bbb"
      },
      "outputs": [
        {
          "output_type": "execute_result",
          "data": {
            "text/plain": [
              "13609"
            ]
          },
          "metadata": {},
          "execution_count": 3
        }
      ],
      "source": [
        "#\n",
        "# Imprima la cantidad de mensajes con NaN\n",
        "#\n",
        "# Rta/\n",
        "# 13609\n",
        "#\n",
        "df['label'].isna().sum()"
      ]
    },
    {
      "cell_type": "code",
      "execution_count": 4,
      "metadata": {
        "id": "t7AwUEcQNtV9",
        "colab": {
          "base_uri": "https://localhost:8080/"
        },
        "outputId": "de42bfc3-e55a-4e1b-b66a-23ae7cd66b2c"
      },
      "outputs": [
        {
          "output_type": "execute_result",
          "data": {
            "text/plain": [
              "500"
            ]
          },
          "metadata": {},
          "execution_count": 4
        }
      ],
      "source": [
        "#\n",
        "# Imprima la cantidad de mensajes con valoración igual a 1.0\n",
        "#\n",
        "# Rta/\n",
        "# 500\n",
        "#\n",
        "len(df[df['label'] == 1.0])"
      ]
    },
    {
      "cell_type": "code",
      "execution_count": 5,
      "metadata": {
        "id": "JbVWMtW9NtV-",
        "colab": {
          "base_uri": "https://localhost:8080/"
        },
        "outputId": "7c1ad57c-5872-42da-cf3c-a884307caaf3"
      },
      "outputs": [
        {
          "output_type": "execute_result",
          "data": {
            "text/plain": [
              "500"
            ]
          },
          "metadata": {},
          "execution_count": 5
        }
      ],
      "source": [
        "#\n",
        "# Imprima la cantidad de mensajes con valoración igual a 0.0\n",
        "#\n",
        "# Rta/\n",
        "# 500\n",
        "#\n",
        "len(df[df['label'] == 0.0])"
      ]
    },
    {
      "cell_type": "code",
      "execution_count": 6,
      "metadata": {
        "id": "R5fNjp4INtWA",
        "colab": {
          "base_uri": "https://localhost:8080/"
        },
        "outputId": "0fd684c1-dbd7-403d-ee70-523d53003aac"
      },
      "outputs": [
        {
          "output_type": "execute_result",
          "data": {
            "text/plain": [
              "1000"
            ]
          },
          "metadata": {},
          "execution_count": 6
        }
      ],
      "source": [
        "#\n",
        "# Genere un nuevo dataset que contenga únicamente los registros\n",
        "# con valoración positiva o negativa e imprima su longitud\n",
        "#\n",
        "# Rta/\n",
        "# 1000\n",
        "#\n",
        "db = df.dropna() \n",
        "len(df.dropna())"
      ]
    },
    {
      "cell_type": "code",
      "execution_count": 7,
      "metadata": {
        "id": "qPmBRTBdNtWC",
        "colab": {
          "base_uri": "https://localhost:8080/"
        },
        "outputId": "847eca1c-92b2-47bc-dcdd-2b30be7ce3de"
      },
      "outputs": [
        {
          "output_type": "execute_result",
          "data": {
            "text/plain": [
              "'so there is no way for me to plug it in here in the us unless i go by a converter.'"
            ]
          },
          "metadata": {},
          "execution_count": 7
        }
      ],
      "source": [
        "#\n",
        "# Genere una nueva columna en el nuevo dataset computada como\n",
        "# el resultado de aplicar el stemmer de Porter al mensaje e\n",
        "# imprima el primer mensaje transformado\n",
        "#\n",
        "# Rta/\n",
        "# 'so there is no way for me to plug it in here in the us unless i go by a converter.'\n",
        "#\n",
        "from nltk.stem.porter import PorterStemmer\n",
        "\n",
        "stemmer = PorterStemmer()\n",
        "db = db.rename(columns={0 : 'Texto', 1 : 'label'})\n",
        "db['stemmed'] = db.Texto.apply(lambda x: \" \".join([stemmer.stem(w) for w in x.split()]))\n",
        "db.iloc[0,2]"
      ]
    },
    {
      "cell_type": "code",
      "execution_count": 8,
      "metadata": {
        "id": "8SQld3auNtWE",
        "colab": {
          "base_uri": "https://localhost:8080/"
        },
        "outputId": "ad13f336-2c34-4858-ba9a-1165b02d9fe1"
      },
      "outputs": [
        {
          "output_type": "execute_result",
          "data": {
            "text/plain": [
              "1554"
            ]
          },
          "metadata": {},
          "execution_count": 8
        }
      ],
      "source": [
        "#\n",
        "# Construya la matriz de terminos del documento considerando\n",
        "# las palabras que tengan una frecuencia entre el 0.1% y el 98%,\n",
        "# y que esten unicamente conformadas por letras.\n",
        "#\n",
        "# Imprima el tamaño del vocabulario.\n",
        "#\n",
        "# Rta/\n",
        "# 1554\n",
        "#\n",
        "from sklearn.feature_extraction.text import CountVectorizer\n",
        "\n",
        "count_vect = CountVectorizer(\n",
        "    analyzer=\"word\",                # a nivel de palabra\n",
        "    lowercase=True,                 # convierte a minúsculas\n",
        "    stop_words=\"english\",           # stop_words en inglés\n",
        "    token_pattern=r\"(?u)\\b\\w\\w+\\b\", # patrones a reconocer\n",
        "    binary=False,                    # Los valores distintos de cero son fijados en 1\n",
        "    max_df=0.98,                     # máxima frecuencia a considerar\n",
        "    min_df=0.001,                       # ignora palabras con baja frecuencia\n",
        ")\n",
        "\n",
        "dtm = count_vect.fit_transform(db.stemmed)\n",
        "\n",
        "dtm.shape[1]"
      ]
    },
    {
      "cell_type": "code",
      "execution_count": 9,
      "metadata": {
        "id": "Fx_3vB8DNtWG",
        "colab": {
          "base_uri": "https://localhost:8080/"
        },
        "outputId": "f26533e9-157b-493f-cf34-29b9c7b7ef7d"
      },
      "outputs": [
        {
          "output_type": "execute_result",
          "data": {
            "text/plain": [
              "1.0    52.2\n",
              "0.0    47.8\n",
              "Name: label, dtype: float64"
            ]
          },
          "metadata": {},
          "execution_count": 9
        }
      ],
      "source": [
        "#\n",
        "# Construya un clasificador bayesiano que use los primeros\n",
        "# 500 patrones para entrenamiento y los últimos 500 para\n",
        "# prueba, e imprima el porcentaje de datos para cada clase\n",
        "# para la muestra de entrenamiento-\n",
        "#\n",
        "# Rta/\n",
        "# 1.0    52.2\n",
        "# 0.0    47.8\n",
        "# Name: label, dtype: float64\n",
        "#\n",
        "X_train = dtm[0:500,]\n",
        "X_test = dtm[500:,]\n",
        "\n",
        "y_train_true = db.label[0:500]\n",
        "y_test_true = db.label[500:]\n",
        "\n",
        "round(100 * y_train_true.value_counts() / sum(y_train_true.value_counts()), 1)"
      ]
    },
    {
      "cell_type": "code",
      "execution_count": 10,
      "metadata": {
        "id": "iQomntimNtWI",
        "colab": {
          "base_uri": "https://localhost:8080/"
        },
        "outputId": "46466510-5b80-46d9-eeda-46d8fa559a42"
      },
      "outputs": [
        {
          "output_type": "execute_result",
          "data": {
            "text/plain": [
              "0.0    52.2\n",
              "1.0    47.8\n",
              "Name: label, dtype: float64"
            ]
          },
          "metadata": {},
          "execution_count": 10
        }
      ],
      "source": [
        "#\n",
        "# Imprima el porcentaje de datos para cada clase para la muestra\n",
        "# de prueba, redondeado a un decimal.\n",
        "#\n",
        "# Rta/\n",
        "# 0.0    52.2\n",
        "# 1.0    47.8\n",
        "# Name: label, dtype: float64\n",
        "#\n",
        "round(100 * y_test_true.value_counts() / sum(y_test_true.value_counts()), 1)"
      ]
    },
    {
      "cell_type": "code",
      "execution_count": 26,
      "metadata": {
        "id": "oiQAjHuwNtWJ",
        "colab": {
          "base_uri": "https://localhost:8080/"
        },
        "outputId": "41c66b13-5268-4e43-9ae4-181289d7c6cc"
      },
      "outputs": [
        {
          "output_type": "execute_result",
          "data": {
            "text/plain": [
              "array([[214,  25],\n",
              "       [  1, 260]])"
            ]
          },
          "metadata": {},
          "execution_count": 26
        }
      ],
      "source": [
        "#\n",
        "# Cree un clasificador de Bayes y entrenelo. Realice el pronostico\n",
        "# para la muestra de entrenamiento y compute la matriz de confusion\n",
        "#\n",
        "# Rta/\n",
        "# array([[214,  25],\n",
        "#        [  1, 260]])\n",
        "#\n",
        "from sklearn.naive_bayes import BernoulliNB\n",
        "from sklearn.metrics import confusion_matrix\n",
        "\n",
        "clf = BernoulliNB()\n",
        "clf.fit(X_train.toarray(), y_train_true)\n",
        "y_pred = clf.predict(X_train.toarray())\n",
        "confusion_matrix(y_train_true, y_pred).astype('int')"
      ]
    },
    {
      "cell_type": "code",
      "execution_count": 25,
      "metadata": {
        "id": "zvhekQP6NtWK",
        "colab": {
          "base_uri": "https://localhost:8080/"
        },
        "outputId": "d850b88d-624e-43de-feab-ebeb40f32a2b"
      },
      "outputs": [
        {
          "output_type": "execute_result",
          "data": {
            "text/plain": [
              "array([[153, 108],\n",
              "       [ 32, 207]])"
            ]
          },
          "metadata": {},
          "execution_count": 25
        }
      ],
      "source": [
        "#\n",
        "# Realice el pronóstico para la muestra de entrenamiento y compute\n",
        "# la matriz de confusión\n",
        "#\n",
        "# Rta/\n",
        "# array([[153, 108],\n",
        "#        [ 32, 207]])\n",
        "#\n",
        "y_pred = clf.predict(X_test.toarray())\n",
        "confusion_matrix(y_test_true, y_pred).astype('int')"
      ]
    },
    {
      "cell_type": "code",
      "execution_count": null,
      "metadata": {
        "id": "ckA6dayPNtWL",
        "colab": {
          "base_uri": "https://localhost:8080/"
        },
        "outputId": "41cb99a3-1437-492c-c8b3-4ec6cf54795c"
      },
      "outputs": [
        {
          "output_type": "execute_result",
          "data": {
            "text/plain": [
              "8284"
            ]
          },
          "metadata": {},
          "execution_count": 14
        }
      ],
      "source": [
        "#\n",
        "# Realice el pronostico para los mensajes con valoración \n",
        "# indeterminada y compute la cantidad de mensajes positivos\n",
        "#\n",
        "# Rta/\n",
        "# 8284\n",
        "#\n",
        "df_Nan = df[df['label'].isnull()]\n",
        "df_Nan = df_Nan.reset_index(drop=True)\n",
        "df_Nan['stemmed'] = df_Nan.Texto.apply(lambda x: \" \".join([stemmer.stem(w) for w in x.split()])).str.lower()\n",
        "\n",
        "X_Nan = count_vect.transform(df_Nan.stemmed)\n",
        "# X_Nan.shape\n",
        "pred = clf.predict(X_Nan)\n",
        "Positivos = list(filter(lambda x: x==1,pred))\n",
        "len(Positivos)"
      ]
    }
  ],
  "metadata": {
    "interpreter": {
      "hash": "31f2aee4e71d21fbe5cf8b01ff0e069b9275f58929596ceb00d14d90e3e16cd6"
    },
    "kernel_info": {
      "name": "python3"
    },
    "kernelspec": {
      "display_name": "Python 3",
      "language": "python",
      "name": "python3"
    },
    "language_info": {
      "codemirror_mode": {
        "name": "ipython",
        "version": 3
      },
      "file_extension": ".py",
      "mimetype": "text/x-python",
      "name": "python",
      "nbconvert_exporter": "python",
      "pygments_lexer": "ipython3",
      "version": "3.6.9"
    },
    "nteract": {
      "version": "0.7.1"
    },
    "varInspector": {
      "cols": {
        "lenName": 16,
        "lenType": 16,
        "lenVar": 40
      },
      "kernels_config": {
        "python": {
          "delete_cmd_postfix": "",
          "delete_cmd_prefix": "del ",
          "library": "var_list.py",
          "varRefreshCmd": "print(var_dic_list())"
        },
        "r": {
          "delete_cmd_postfix": ") ",
          "delete_cmd_prefix": "rm(",
          "library": "var_list.r",
          "varRefreshCmd": "cat(var_dic_list()) "
        }
      },
      "types_to_exclude": [
        "module",
        "function",
        "builtin_function_or_method",
        "instance",
        "_Feature"
      ],
      "window_display": false
    },
    "colab": {
      "name": "08-002_analisis_de_sentimientos_en_amazon_usando_bayes.ipynb",
      "provenance": [],
      "collapsed_sections": []
    }
  },
  "nbformat": 4,
  "nbformat_minor": 0
}