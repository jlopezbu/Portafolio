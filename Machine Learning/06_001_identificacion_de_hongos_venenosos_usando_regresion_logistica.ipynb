{
  "cells": [
    {
      "cell_type": "markdown",
      "metadata": {
        "id": "p2mranMsGmfF"
      },
      "source": [
        "Identificación de hongos venenosos usando regresión logística\n",
        "==="
      ]
    },
    {
      "cell_type": "markdown",
      "metadata": {
        "id": "buvkVHBmGmfJ"
      },
      "source": [
        "Construya un modelo de regresión logística que permita identificar si un hongo es venenoso o no. Para ello, utilice la muestra de datos suministrada. \n",
        "\n",
        "La base de datos contiene 8124 instancias de hongos provenientes de 23 especies de la familia Agaricus y Lepiota, los cuales han sido clasificados como comestibles, venenosos o de comestibilidad indeterminada. Por el tipo de problema en cuestión, los hongos de comestibilidad desconocida deben ser asignados a la clase de hongos venenosos, ya que no se puede correr el riesgo de dar un hongo potencialmente venenoso a una persona para su consumo.\n",
        "\n",
        "Véase https://www.kaggle.com/uciml/mushroom-classification\n",
        "\n",
        "Evalue el modelo usando la matriz de confusión.\n",
        "\n",
        "La información contenida en la muestra es la siguiente:\n",
        "\n",
        "     1. cap-shape:                bell=b,conical=c,convex=x,flat=f,\n",
        "                                  knobbed=k,sunken=s\n",
        "     2. cap-surface:              fibrous=f,grooves=g,scaly=y,smooth=s\n",
        "     3. cap-color:                brown=n,buff=b,cinnamon=c,gray=g,green=r,\n",
        "                                  pink=p,purple=u,red=e,white=w,yellow=y\n",
        "     4. bruises?:                 bruises=t,no=f\n",
        "     5. odor:                     almond=a,anise=l,creosote=c,fishy=y,foul=f,\n",
        "                                  musty=m,none=n,pungent=p,spicy=s\n",
        "     6. gill-attachment:          attached=a,descending=d,free=f,notched=n\n",
        "     7. gill-spacing:             close=c,crowded=w,distant=d\n",
        "     8. gill-size:                broad=b,narrow=n\n",
        "     9. gill-color:               black=k,brown=n,buff=b,chocolate=h,gray=g,\n",
        "                                  green=r,orange=o,pink=p,purple=u,red=e,\n",
        "                                  white=w,yellow=y\n",
        "    10. stalk-shape:              enlarging=e,tapering=t\n",
        "    11. stalk-root:               bulbous=b,club=c,cup=u,equal=e,\n",
        "                                  rhizomorphs=z,rooted=r,missing=?\n",
        "    12. stalk-surface-above-ring: fibrous=f,scaly=y,silky=k,smooth=s\n",
        "    13. stalk-surface-below-ring: fibrous=f,scaly=y,silky=k,smooth=s\n",
        "    14. stalk-color-above-ring:   brown=n,buff=b,cinnamon=c,gray=g,orange=o,\n",
        "                                  pink=p,red=e,white=w,yellow=y\n",
        "    15. stalk-color-below-ring:   brown=n,buff=b,cinnamon=c,gray=g,orange=o,\n",
        "                                  pink=p,red=e,white=w,yellow=y\n",
        "    16. veil-type:                partial=p,universal=u\n",
        "    17. veil-color:               brown=n,orange=o,white=w,yellow=y\n",
        "    18. ring-number:              none=n,one=o,two=t\n",
        "    19. ring-type:                cobwebby=c,evanescent=e,flaring=f,large=l,\n",
        "                                  none=n,pendant=p,sheathing=s,zone=z\n",
        "    20. spore-print-color:        black=k,brown=n,buff=b,chocolate=h,green=r,\n",
        "                                  orange=o,purple=u,white=w,yellow=y\n",
        "    21. population:               abundant=a,clustered=c,numerous=n,\n",
        "                                  scattered=s,several=v,solitary=y\n",
        "    22. habitat:                  grasses=g,leaves=l,meadows=m,paths=p,\n",
        "                                  urban=u,waste=w,woods=d"
      ]
    },
    {
      "cell_type": "code",
      "execution_count": null,
      "metadata": {
        "id": "8XNKPWthGmfN"
      },
      "outputs": [],
      "source": [
        "#\n",
        "# Carga de la muestra de datos.\n",
        "#\n",
        "import pandas as pd\n",
        "\n",
        "df = pd.read_csv(\n",
        "    \"https://raw.githubusercontent.com/jdvelasq/datalabs/master/datasets/mushrooms.csv\"\n",
        ")"
      ]
    },
    {
      "cell_type": "code",
      "execution_count": 20,
      "metadata": {
        "id": "qepuife1GmfQ",
        "colab": {
          "base_uri": "https://localhost:8080/"
        },
        "outputId": "2a91f8fe-5b1b-4d13-ceb2-333e02736816"
      },
      "outputs": [
        {
          "output_type": "stream",
          "name": "stdout",
          "text": [
            "True\n",
            "True\n",
            "True\n",
            "True\n"
          ]
        }
      ],
      "source": [
        "#\n",
        "# Para construir el modelo elimine la columna 'veil_type' ya que\n",
        "# contiene un único valor.\n",
        "#\n",
        "# Preprocese los datos usando one-hot-encoder.\n",
        "#\n",
        "from sklearn.linear_model import LogisticRegression\n",
        "from sklearn.metrics import confusion_matrix\n",
        "from sklearn.preprocessing import OneHotEncoder\n",
        "\n",
        "# >>> Inserte su codigo aquí >>>\n",
        "import numpy as np\n",
        "from sklearn.metrics import classification_report\n",
        "from sklearn.model_selection import train_test_split\n",
        "import matplotlib.pyplot as plt\n",
        "import seaborn as sns\n",
        "\n",
        "X = np.array(df.drop(['type','veil_type'],1))\n",
        "y = np.array(df['type'])\n",
        "\n",
        "Encoder = OneHotEncoder()\n",
        "X = Encoder.fit_transform(X)\n",
        "\n",
        "# X_train,X_test,y_train,y_test = train_test_split(X,y,test_size=0.2)\n",
        "\n",
        "lr = LogisticRegression()\n",
        "lr.fit(X,y)\n",
        "\n",
        "y_pred = lr.predict(X)\n",
        "\n",
        "cm = confusion_matrix(y, y_pred)\n",
        "\n",
        "# ---->>> Evaluación ---->>>\n",
        "# cm es la matriz de confusion\n",
        "print(cm[0][0] == 4208)\n",
        "print(cm[0][1] == 0)\n",
        "print(cm[1][0] == 0)\n",
        "print(cm[1][1] == 3916)"
      ]
    }
  ],
  "metadata": {
    "kernel_info": {
      "name": "python3"
    },
    "kernelspec": {
      "display_name": "Python 3",
      "language": "python",
      "name": "python3"
    },
    "language_info": {
      "codemirror_mode": {
        "name": "ipython",
        "version": 3
      },
      "file_extension": ".py",
      "mimetype": "text/x-python",
      "name": "python",
      "nbconvert_exporter": "python",
      "pygments_lexer": "ipython3",
      "version": "3.6.9"
    },
    "nteract": {
      "version": "0.7.1"
    },
    "varInspector": {
      "cols": {
        "lenName": 16,
        "lenType": 16,
        "lenVar": 40
      },
      "kernels_config": {
        "python": {
          "delete_cmd_postfix": "",
          "delete_cmd_prefix": "del ",
          "library": "var_list.py",
          "varRefreshCmd": "print(var_dic_list())"
        },
        "r": {
          "delete_cmd_postfix": ") ",
          "delete_cmd_prefix": "rm(",
          "library": "var_list.r",
          "varRefreshCmd": "cat(var_dic_list()) "
        }
      },
      "types_to_exclude": [
        "module",
        "function",
        "builtin_function_or_method",
        "instance",
        "_Feature"
      ],
      "window_display": false
    },
    "colab": {
      "name": "06-001_identificacion_de_hongos_venenosos_usando_regresion_logistica.ipynb",
      "provenance": [],
      "collapsed_sections": []
    }
  },
  "nbformat": 4,
  "nbformat_minor": 0
}